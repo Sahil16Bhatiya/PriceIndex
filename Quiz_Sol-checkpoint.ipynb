{
 "cells": [
  {
   "cell_type": "code",
   "execution_count": 2,
   "id": "d4ad2a4b",
   "metadata": {},
   "outputs": [],
   "source": [
    "import pandas as pd\n",
    "import numpy as np\n",
    "import warnings\n",
    "warnings.filterwarnings('ignore')"
   ]
  },
  {
   "cell_type": "code",
   "execution_count": 3,
   "id": "97ff7c80",
   "metadata": {},
   "outputs": [],
   "source": [
    "data_train=pd.read_csv(\"Property_train.csv\")\n",
    "data_test=pd.read_csv(\"Property_test_share.csv\")"
   ]
  },
  {
   "cell_type": "code",
   "execution_count": 5,
   "id": "a67d71e8",
   "metadata": {},
   "outputs": [
    {
     "data": {
      "text/html": [
       "<div>\n",
       "<style scoped>\n",
       "    .dataframe tbody tr th:only-of-type {\n",
       "        vertical-align: middle;\n",
       "    }\n",
       "\n",
       "    .dataframe tbody tr th {\n",
       "        vertical-align: top;\n",
       "    }\n",
       "\n",
       "    .dataframe thead th {\n",
       "        text-align: right;\n",
       "    }\n",
       "</style>\n",
       "<table border=\"1\" class=\"dataframe\">\n",
       "  <thead>\n",
       "    <tr style=\"text-align: right;\">\n",
       "      <th></th>\n",
       "      <th>Junk</th>\n",
       "      <th>InteriorsStyle</th>\n",
       "      <th>PriceIndex8</th>\n",
       "      <th>ListDate</th>\n",
       "      <th>Material</th>\n",
       "      <th>PriceIndex9</th>\n",
       "      <th>Agency</th>\n",
       "      <th>AreaIncomeType</th>\n",
       "      <th>EnvRating</th>\n",
       "      <th>PriceIndex7</th>\n",
       "      <th>...</th>\n",
       "      <th>Region</th>\n",
       "      <th>PriceIndex5</th>\n",
       "      <th>SubModel</th>\n",
       "      <th>Facade</th>\n",
       "      <th>State</th>\n",
       "      <th>NormalisedPopulation</th>\n",
       "      <th>BuildYear</th>\n",
       "      <th>RegionType</th>\n",
       "      <th>PropertyAge</th>\n",
       "      <th>PriceIndex2</th>\n",
       "    </tr>\n",
       "  </thead>\n",
       "  <tbody>\n",
       "    <tr>\n",
       "      <th>0</th>\n",
       "      <td>0</td>\n",
       "      <td>6LLJ</td>\n",
       "      <td>14674.0</td>\n",
       "      <td>9/7/2010</td>\n",
       "      <td>UT7W</td>\n",
       "      <td>8270</td>\n",
       "      <td>CAT3</td>\n",
       "      <td>B</td>\n",
       "      <td>missing</td>\n",
       "      <td>13143.0</td>\n",
       "      <td>...</td>\n",
       "      <td>A</td>\n",
       "      <td>9022.0</td>\n",
       "      <td>6E9G</td>\n",
       "      <td>GREEN</td>\n",
       "      <td>MD</td>\n",
       "      <td>42077</td>\n",
       "      <td>2008</td>\n",
       "      <td>A</td>\n",
       "      <td>2</td>\n",
       "      <td>10692.0</td>\n",
       "    </tr>\n",
       "    <tr>\n",
       "      <th>1</th>\n",
       "      <td>1</td>\n",
       "      <td>XZ9F</td>\n",
       "      <td>4172.0</td>\n",
       "      <td>1/7/2009</td>\n",
       "      <td>PRN0</td>\n",
       "      <td>3890</td>\n",
       "      <td>CAT2</td>\n",
       "      <td>B</td>\n",
       "      <td>missing</td>\n",
       "      <td>3461.0</td>\n",
       "      <td>...</td>\n",
       "      <td>A</td>\n",
       "      <td>2742.0</td>\n",
       "      <td>FIVQ</td>\n",
       "      <td>SILVER</td>\n",
       "      <td>OK</td>\n",
       "      <td>77258</td>\n",
       "      <td>2002</td>\n",
       "      <td>A</td>\n",
       "      <td>7</td>\n",
       "      <td>3615.0</td>\n",
       "    </tr>\n",
       "    <tr>\n",
       "      <th>2</th>\n",
       "      <td>0</td>\n",
       "      <td>QWEV</td>\n",
       "      <td>8210.0</td>\n",
       "      <td>6/23/2010</td>\n",
       "      <td>A9RA</td>\n",
       "      <td>5900</td>\n",
       "      <td>CAT1</td>\n",
       "      <td>B</td>\n",
       "      <td>missing</td>\n",
       "      <td>6922.0</td>\n",
       "      <td>...</td>\n",
       "      <td>A</td>\n",
       "      <td>3768.0</td>\n",
       "      <td>4K0H</td>\n",
       "      <td>SILVER</td>\n",
       "      <td>SC</td>\n",
       "      <td>94514</td>\n",
       "      <td>2004</td>\n",
       "      <td>A</td>\n",
       "      <td>6</td>\n",
       "      <td>5805.0</td>\n",
       "    </tr>\n",
       "    <tr>\n",
       "      <th>3</th>\n",
       "      <td>0</td>\n",
       "      <td>MK2K</td>\n",
       "      <td>7309.0</td>\n",
       "      <td>3/19/2009</td>\n",
       "      <td>RRJQ</td>\n",
       "      <td>7460</td>\n",
       "      <td>OTHER</td>\n",
       "      <td>A</td>\n",
       "      <td>missing</td>\n",
       "      <td>6300.0</td>\n",
       "      <td>...</td>\n",
       "      <td>A</td>\n",
       "      <td>5370.0</td>\n",
       "      <td>ZLXY</td>\n",
       "      <td>WHITE</td>\n",
       "      <td>NC</td>\n",
       "      <td>82302</td>\n",
       "      <td>2002</td>\n",
       "      <td>C</td>\n",
       "      <td>7</td>\n",
       "      <td>6444.0</td>\n",
       "    </tr>\n",
       "    <tr>\n",
       "      <th>4</th>\n",
       "      <td>0</td>\n",
       "      <td>GK4G</td>\n",
       "      <td>9182.0</td>\n",
       "      <td>3/3/2010</td>\n",
       "      <td>HE5A</td>\n",
       "      <td>6400</td>\n",
       "      <td>OTHER</td>\n",
       "      <td>B</td>\n",
       "      <td>missing</td>\n",
       "      <td>8330.0</td>\n",
       "      <td>...</td>\n",
       "      <td>A</td>\n",
       "      <td>4803.0</td>\n",
       "      <td>FIVQ</td>\n",
       "      <td>SILVER</td>\n",
       "      <td>SC</td>\n",
       "      <td>49176</td>\n",
       "      <td>2007</td>\n",
       "      <td>B</td>\n",
       "      <td>3</td>\n",
       "      <td>6286.0</td>\n",
       "    </tr>\n",
       "  </tbody>\n",
       "</table>\n",
       "<p>5 rows × 31 columns</p>\n",
       "</div>"
      ],
      "text/plain": [
       "   Junk InteriorsStyle PriceIndex8   ListDate Material  PriceIndex9 Agency  \\\n",
       "0     0           6LLJ     14674.0   9/7/2010     UT7W         8270   CAT3   \n",
       "1     1           XZ9F      4172.0   1/7/2009     PRN0         3890   CAT2   \n",
       "2     0           QWEV      8210.0  6/23/2010     A9RA         5900   CAT1   \n",
       "3     0           MK2K      7309.0  3/19/2009     RRJQ         7460  OTHER   \n",
       "4     0           GK4G      9182.0   3/3/2010     HE5A         6400  OTHER   \n",
       "\n",
       "  AreaIncomeType EnvRating PriceIndex7  ...  Region PriceIndex5 SubModel  \\\n",
       "0              B   missing     13143.0  ...       A      9022.0     6E9G   \n",
       "1              B   missing      3461.0  ...       A      2742.0     FIVQ   \n",
       "2              B   missing      6922.0  ...       A      3768.0     4K0H   \n",
       "3              A   missing      6300.0  ...       A      5370.0     ZLXY   \n",
       "4              B   missing      8330.0  ...       A      4803.0     FIVQ   \n",
       "\n",
       "   Facade State NormalisedPopulation  BuildYear  RegionType PropertyAge  \\\n",
       "0   GREEN    MD                42077       2008           A           2   \n",
       "1  SILVER    OK                77258       2002           A           7   \n",
       "2  SILVER    SC                94514       2004           A           6   \n",
       "3   WHITE    NC                82302       2002           C           7   \n",
       "4  SILVER    SC                49176       2007           B           3   \n",
       "\n",
       "  PriceIndex2  \n",
       "0     10692.0  \n",
       "1      3615.0  \n",
       "2      5805.0  \n",
       "3      6444.0  \n",
       "4      6286.0  \n",
       "\n",
       "[5 rows x 31 columns]"
      ]
     },
     "execution_count": 5,
     "metadata": {},
     "output_type": "execute_result"
    }
   ],
   "source": [
    "data_train.head()"
   ]
  },
  {
   "cell_type": "code",
   "execution_count": 8,
   "id": "f62c93e6",
   "metadata": {},
   "outputs": [
    {
     "data": {
      "text/plain": [
       "Index(['Junk', 'InteriorsStyle', 'PriceIndex8', 'ListDate', 'Material',\n",
       "       'PriceIndex9', 'Agency', 'AreaIncomeType', 'EnvRating', 'PriceIndex7',\n",
       "       'ExpeditedListing', 'PriceIndex4', 'PriceIndex1', 'PriceIndex6',\n",
       "       'PRIMEUNIT', 'Channel', 'Zip', 'InsurancePremiumIndex', 'PlotType',\n",
       "       'Architecture', 'PriceIndex3', 'Region', 'PriceIndex5', 'SubModel',\n",
       "       'Facade', 'State', 'NormalisedPopulation', 'BuildYear', 'RegionType',\n",
       "       'PropertyAge', 'PriceIndex2'],\n",
       "      dtype='object')"
      ]
     },
     "execution_count": 8,
     "metadata": {},
     "output_type": "execute_result"
    }
   ],
   "source": [
    "data_train.columns"
   ]
  },
  {
   "cell_type": "code",
   "execution_count": 12,
   "id": "bb5aecc9",
   "metadata": {},
   "outputs": [
    {
     "data": {
      "text/plain": [
       "array(['missing', 'GREEN', 'RED'], dtype=object)"
      ]
     },
     "execution_count": 12,
     "metadata": {},
     "output_type": "execute_result"
    }
   ],
   "source": [
    "data_train['EnvRating'].unique()"
   ]
  },
  {
   "cell_type": "code",
   "execution_count": 19,
   "id": "4a2ae796",
   "metadata": {},
   "outputs": [
    {
     "name": "stdout",
     "output_type": "stream",
     "text": [
      "Total missing terms  59092\n",
      "percentage of missing terms  95.25590392520351\n"
     ]
    }
   ],
   "source": [
    "#Que 1\n",
    "tot_Env = len(data_train['EnvRating'])\n",
    "Env_miss = data_train['EnvRating'].eq(\"missing\").sum()\n",
    "print(\"Total missing terms \" , Env_miss)\n",
    "print(\"percentage of missing terms \" , (Env_miss / tot_Env)* 100 )"
   ]
  },
  {
   "cell_type": "code",
   "execution_count": 20,
   "id": "63898607",
   "metadata": {},
   "outputs": [
    {
     "data": {
      "text/plain": [
       "0       2010-09-07\n",
       "1       2009-01-07\n",
       "2       2010-06-23\n",
       "3       2009-03-19\n",
       "4       2010-03-03\n",
       "           ...    \n",
       "62030   2010-03-31\n",
       "62031   2010-10-20\n",
       "62032   2009-05-19\n",
       "62033   2009-04-30\n",
       "62034   2010-11-03\n",
       "Name: ListDate, Length: 62035, dtype: datetime64[ns]"
      ]
     },
     "execution_count": 20,
     "metadata": {},
     "output_type": "execute_result"
    }
   ],
   "source": [
    "#Que 2\n",
    "# First Convert ListDate to datetime\n",
    "data_train[\"ListDate\"] = pd.to_datetime(data_train[\"ListDate\"])\n",
    "data_train[\"ListDate\"]"
   ]
  },
  {
   "cell_type": "code",
   "execution_count": 30,
   "id": "bb45af22",
   "metadata": {},
   "outputs": [
    {
     "name": "stdout",
     "output_type": "stream",
     "text": [
      "higest time repeated months 10\n",
      "how many time count 6098\n"
     ]
    }
   ],
   "source": [
    "month_counts = data_train[\"ListDate\"].dt.month.value_counts()\n",
    "print(\"higest time repeated months\", month_counts.idxmax() )\n",
    "print(\"how many time count\", month_counts.max() )"
   ]
  },
  {
   "cell_type": "code",
   "execution_count": 35,
   "id": "d173522d",
   "metadata": {},
   "outputs": [
    {
     "name": "stdout",
     "output_type": "stream",
     "text": [
      "The agency category with the highest number of listings from AreaIncomeType A is: CAT1\n",
      "how many: 10275\n"
     ]
    }
   ],
   "source": [
    "# que 3\n",
    "a = data_train[data_train[\"AreaIncomeType\"] == \"A\"]\n",
    "agency_counts = a[\"Agency\"].value_counts()\n",
    "print(\"The agency category with the highest number of listings from AreaIncomeType A is:\" ,agency_counts.idxmax())\n",
    "print(\"how many:\" ,agency_counts.max())"
   ]
  },
  {
   "cell_type": "code",
   "execution_count": 36,
   "id": "8d26d67e",
   "metadata": {},
   "outputs": [
    {
     "name": "stdout",
     "output_type": "stream",
     "text": [
      "AR : 6.0\n"
     ]
    }
   ],
   "source": [
    "# que 4\n",
    "b = data_train.groupby('State')[\"PropertyAge\"].median()\n",
    "print(b.idxmax() , \":\", b.max())\n"
   ]
  },
  {
   "cell_type": "code",
   "execution_count": 42,
   "id": "4e5d2a3c",
   "metadata": {},
   "outputs": [
    {
     "data": {
      "text/plain": [
       "6066861"
      ]
     },
     "execution_count": 42,
     "metadata": {},
     "output_type": "execute_result"
    }
   ],
   "source": [
    "# que 5  # first conv data into numberical using pd.to_numeric\n",
    "x = pd.to_numeric(data_train[\"PriceIndex1\"], errors='coerce') \n",
    "price_index1_variance = np.var(x)\n",
    "round(price_index1_variance)"
   ]
  },
  {
   "cell_type": "code",
   "execution_count": 47,
   "id": "968dc4bc",
   "metadata": {},
   "outputs": [
    {
     "name": "stdout",
     "output_type": "stream",
     "text": [
      "NormalisedPopulation for Architecture code 'YIK5' 73381.0\n"
     ]
    }
   ],
   "source": [
    "# que 6\n",
    "n = data_train[data_train[\"Architecture\"] == \"YIK5\"]\n",
    "m = n[\"NormalisedPopulation\"].mean().round()\n",
    "print(\"NormalisedPopulation for Architecture code 'YIK5'\" ,  m)"
   ]
  },
  {
   "cell_type": "code",
   "execution_count": 57,
   "id": "4e9b8a44",
   "metadata": {},
   "outputs": [
    {
     "name": "stdout",
     "output_type": "stream",
     "text": [
      "price_index_range 0.0 to 41062.0\n"
     ]
    }
   ],
   "source": [
    "# que 7\n",
    "c = pd.to_numeric(data_train[\"PriceIndex8\"], errors='coerce')  # 'coerce' to handle non-numeric values\n",
    "price_index_range_max = np.max(c)\n",
    "price_index_range_min = np.min(c)\n",
    "print(\"price_index_range\",price_index_range_min ,\"to\" ,price_index_range_max  )"
   ]
  },
  {
   "cell_type": "code",
   "execution_count": null,
   "id": "15da77d2",
   "metadata": {},
   "outputs": [],
   "source": []
  }
 ],
 "metadata": {
  "kernelspec": {
   "display_name": "Python 3 (ipykernel)",
   "language": "python",
   "name": "python3"
  },
  "language_info": {
   "codemirror_mode": {
    "name": "ipython",
    "version": 3
   },
   "file_extension": ".py",
   "mimetype": "text/x-python",
   "name": "python",
   "nbconvert_exporter": "python",
   "pygments_lexer": "ipython3",
   "version": "3.11.5"
  }
 },
 "nbformat": 4,
 "nbformat_minor": 5
}
